#IMPORTAMOS LAS LIBRERIAS BASADAS EN TENSORFLOW Y KERAS
import sys
import os
from tensorflow.keras.preprocessing.image import ImageDataGenerator
from tensorflow.keras import optimizers
from tensorflow.keras.models import Sequential
from tensorflow.keras.layers import Dropout, Flatten, Dense, Activation
from tensorflow.keras.layers import  Convolution2D, MaxPooling2D
from tensorflow.keras import backend as K

#LIMPIAMOS SESIN DE KERAS PARA EMPEZAR DESDE 0 EN MEMORIA
K.clear_session()
#GENERAMOS 2 VARIABLES CON CADA UNA DE LAS CARPETAS TANTO DE ENTRENAMIENTO COMO DE TEST CON FOTOGRAFIAS
data_entrenamiento = './CarneDataset/train'
data_validacion = './CarneDataset/test'

#DECLARACION DE VARIABLES CON VALORES QUE PARAMETRIZARAN EL DESEMPEÑO DEL ENTRENAMIENTO DEL MODELO DE CLASIFICACION DE FOTOS
epocas=15 #NUMERO DE EPOCHS PARA EL TRAINING
longitud, altura = 100, 100 #REDIMENSIONAMIENTO DE FOTOGRAFIAS
batch_size = 10 # TAMAÑO DE FOTOGRAFIAS A GESTIONAR
pasos = 120 #NUMERO DE STEPS PARA ENTRENAMIENTO
validation_steps = 80 #NUMERO DE STEPS PARA VALIDACION
filtrosConv1 = 32
filtrosConv2 = 64
tamano_filtro1 = (3, 3)
tamano_filtro2 = (2, 2)
tamano_pool = (2, 2)
clases = 8 #CANTIDAD DE CLASES DE FOTOGRAFIAS A CLASIFICAR
lr = 0.0004 #LERANING RATE PARA EL PROCESO DE ENTRENAMIENTO
