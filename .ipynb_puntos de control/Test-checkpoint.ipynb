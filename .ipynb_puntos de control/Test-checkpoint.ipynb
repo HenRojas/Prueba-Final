#IMPORTACION DE LIBRERIAS
import numpy as np
from tensorflow.keras.preprocessing.image import load_img, img_to_array
from tensorflow.keras.models import load_model

#CONFIGURACION DE FOTOGRAFIAS A SER TESTEADAS
longitud, altura = 100, 100
modelo = './modelo/modelo.h5'
pesos_modelo = './modelo/pesos.h5'
cnn = load_model(modelo)
cnn.load_weights(pesos_modelo)

#FUNCION DE TESTEO SEGUN MODELO GENERADO
def predict(file):
  x = load_img(file, target_size=(longitud, altura))
  x = img_to_array(x)
  x = np.expand_dims(x, axis=0)
  array = cnn.predict(x)
  result = array[0]
  answer = np.argmax(result)
  if answer == 0:
    print("Predicción: Fotos Clase 1")
  elif answer == 1:
    print("Predicción: Fotos Clase 2")
  elif answer == 2:
    print("Predicción: Fotos Clase 3")
  elif answer == 3:
    print("Predicción: Fotos Clase 4")
  elif answer == 4:
    print("Predicción: Fotos Clase 5")
  elif answer == 5:
    print("Predicción: Fotos Clase 6")
  elif answer == 6:
    print("Predicción: Fotos Clase 7")
  elif answer == 7:
    print("Predicción: Fotos Clase 8")
  return answer
